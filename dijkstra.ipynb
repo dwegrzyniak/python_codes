{
 "cells": [
  {
   "cell_type": "markdown",
   "metadata": {},
   "source": [
    "Dijkstra alghoritm <br>\n",
    "Input file: <br>\n",
    "node1    node2    weight <br>\n",
    "<br>\n",
    "1 2 24 <br>\n",
    "1 4 20 <br>\n",
    "3 1 3 <br>\n",
    "4 3 12 <br>"
   ]
  },
  {
   "cell_type": "code",
   "execution_count": 1,
   "metadata": {},
   "outputs": [],
   "source": [
    "class node():\n",
    "    def __init__(self, index):\n",
    "        self.index = index\n",
    "        self.edges = []\n",
    "        self.distance = 10**10\n",
    "    \n",
    "    def add_edge(self, target_node, weight):\n",
    "        self.edges.append([target_node, weight])\n",
    "\n",
    "    def __lt__(self, other):\n",
    "        return self.distance < other.distance\n",
    "    \n",
    "    def __str__(self):\n",
    "        return str(self.distance)"
   ]
  },
  {
   "cell_type": "code",
   "execution_count": 2,
   "metadata": {},
   "outputs": [],
   "source": [
    "nodes_dict = {}\n",
    "\n",
    "def add_edges(node1, node2, weight):\n",
    "\n",
    "    try:\n",
    "        nodes_dict[node1]\n",
    "    except:\n",
    "        nodes_dict.update({node1 : node(node1)})\n",
    "    finally:\n",
    "        nodes_dict[node1].add_edge(node2, weight)\n",
    "\n",
    "    try: \n",
    "        nodes_dict[node2]\n",
    "    except:\n",
    "        nodes_dict.update({node2 : node(node2)})\n",
    "    finally:\n",
    "        nodes_dict[node2].add_edge(node1, weight)"
   ]
  },
  {
   "cell_type": "code",
   "execution_count": 3,
   "metadata": {},
   "outputs": [],
   "source": [
    "def read_file(file_path):\n",
    "\n",
    "    with open(file_path) as f:\n",
    "\n",
    "        line = f.readline()\n",
    "\n",
    "        while len(line) != 0:\n",
    "        #get edge info\n",
    "            line = line.strip().split(' ')\n",
    "        #get nodes & weight\n",
    "            node1 = int(line[0])\n",
    "            node2 = int(line[1])\n",
    "            weight = int(line[2])\n",
    "\n",
    "            add_edges(node1, node2, weight)\n",
    "        #next line\n",
    "            line = f.readline()\n",
    "            "
   ]
  },
  {
   "cell_type": "code",
   "execution_count": 4,
   "metadata": {},
   "outputs": [],
   "source": [
    "from operator import itemgetter\n",
    "import pdb\n",
    "\n",
    "def dijkstra(start_node = 2):\n",
    "    \n",
    "    nodes_list = list(nodes_dict.keys())\n",
    "    nodes_dict[start_node].distance = 0\n",
    "\n",
    "    while len(nodes_list) != 0:\n",
    "    #get min distance\n",
    "        index, dist = min([(node, nodes_dict[node].distance) \n",
    "                        for node in nodes_list], key = itemgetter(1))\n",
    "        curr_node = nodes_dict[index]\n",
    "    #update neighbours\n",
    "        for edge in curr_node.edges:\n",
    "            weight = edge[1]\n",
    "            if dist + weight < nodes_dict[edge[0]].distance:\n",
    "                \n",
    "                nodes_dict[edge[0]].distance = dist + weight\n",
    "            else:\n",
    "                pass\n",
    "    #remove node from list\n",
    "        nodes_list.remove(index)"
   ]
  },
  {
   "cell_type": "code",
   "execution_count": 5,
   "metadata": {},
   "outputs": [
    {
     "name": "stdout",
     "output_type": "stream",
     "text": [
      "node 1: 10\n",
      "node 2: 0\n",
      "node 3: 16\n",
      "node 4: 8\n"
     ]
    },
    {
     "ename": "",
     "evalue": "",
     "output_type": "error",
     "traceback": [
      "\u001b[1;31mThe Kernel crashed while executing code in the the current cell or a previous cell. Please review the code in the cell(s) to identify a possible cause of the failure. Click <a href='https://aka.ms/vscodeJupyterKernelCrash'>here</a> for more info. View Jupyter <a href='command:jupyter.viewOutput'>log</a> for further details."
     ]
    }
   ],
   "source": [
    "read_file()\n",
    "dijkstra()\n",
    "\n",
    "\n",
    "for key, node in sorted(nodes_dict.items()):\n",
    "    print(f'node {key}: {node.distance}')"
   ]
  }
 ],
 "metadata": {
  "kernelspec": {
   "display_name": "Python 3",
   "language": "python",
   "name": "python3"
  },
  "language_info": {
   "codemirror_mode": {
    "name": "ipython",
    "version": 3
   },
   "file_extension": ".py",
   "mimetype": "text/x-python",
   "name": "python",
   "nbconvert_exporter": "python",
   "pygments_lexer": "ipython3",
   "version": "3.11.6"
  }
 },
 "nbformat": 4,
 "nbformat_minor": 2
}
