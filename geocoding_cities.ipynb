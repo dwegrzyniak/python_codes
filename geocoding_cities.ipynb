{
 "cells": [
  {
   "cell_type": "markdown",
   "metadata": {},
   "source": [
    "Distance between to cities (addresses)"
   ]
  },
  {
   "cell_type": "code",
   "execution_count": 21,
   "metadata": {},
   "outputs": [],
   "source": [
    "from geopy.geocoders import Nominatim\n",
    "import math\n",
    "\n",
    "geolocator = Nominatim(user_agent=\"@\")\n",
    "\n",
    "def geocode_address(address):\n",
    "    location = geolocator.geocode(address)\n",
    "    return location.latitude, location.longitude\n",
    "\n",
    "def calculate_distance(coord1, coord2):\n",
    "    R = 6371\n",
    " \n",
    "    #haversine formula\n",
    "    delta_lat = math.radians(coord1[0] - coord2[0])\n",
    "    delta_long = math.radians(coord1[1] - coord2[1])\n",
    "    \n",
    "    lat1 = math.radians(coord1[0])\n",
    "    lat2 = math.radians(coord2[0])\n",
    "\n",
    "    a = (math.sin(delta_lat / 2) ** 2 + math.cos(lat1) *\n",
    "             math.cos(lat2) * math.sin(delta_long / 2) ** 2)\n",
    "    c = 2 * math.atan2(math.sqrt(a), math.sqrt(1 - a))\n",
    "    \n",
    "    return R * c"
   ]
  },
  {
   "cell_type": "code",
   "execution_count": 22,
   "metadata": {},
   "outputs": [],
   "source": [
    "def input_coord():\n",
    "    address = input(\"Type address: \")\n",
    "    try:\n",
    "        coord = geocode_address(address)\n",
    "        if coord == None:\n",
    "            print(\"Incorrect address\")\n",
    "            input_coord()\n",
    "        else:\n",
    "            print(\"Incorrect address\")\n",
    "            return coord\n",
    "    except:\n",
    "        input_coord()"
   ]
  },
  {
   "cell_type": "code",
   "execution_count": 23,
   "metadata": {},
   "outputs": [
    {
     "data": {
      "text/plain": [
       "1366.6097224768594"
      ]
     },
     "execution_count": 23,
     "metadata": {},
     "output_type": "execute_result"
    }
   ],
   "source": [
    "coord1 = input_coord()\n",
    "coord2 = input_coord()\n",
    "\n",
    "dist = calculate_distance(coord1, coord2)\n",
    "print(f'The distance is {dist} km')"
   ]
  },
  {
   "cell_type": "code",
   "execution_count": null,
   "metadata": {},
   "outputs": [],
   "source": []
  }
 ],
 "metadata": {
  "kernelspec": {
   "display_name": "Python 3",
   "language": "python",
   "name": "python3"
  },
  "language_info": {
   "codemirror_mode": {
    "name": "ipython",
    "version": 3
   },
   "file_extension": ".py",
   "mimetype": "text/x-python",
   "name": "python",
   "nbconvert_exporter": "python",
   "pygments_lexer": "ipython3",
   "version": "3.11.6"
  }
 },
 "nbformat": 4,
 "nbformat_minor": 2
}
